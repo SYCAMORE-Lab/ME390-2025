{
 "cells": [
  {
   "cell_type": "markdown",
   "id": "ca3fac8f",
   "metadata": {},
   "source": [
    "# Convolutional Neural Networks - Solutions"
   ]
  },
  {
   "cell_type": "markdown",
   "id": "e7fe92da",
   "metadata": {},
   "source": [
    "<hr style=\"clear:both\">\n",
    "\n",
    "This notebook is part of a series of exercises for the CIVIL-226 Introduction to Machine Learning for Engineers course at EPFL and adapted for the ME-390. Copyright (c) 2021 [VITA](https://www.epfl.ch/labs/vita/) lab at EPFL  \n",
    "Use of this source code is governed by an MIT-style license that can be found in the LICENSE file or at https://www.opensource.org/licenses/MIT\n",
    "\n",
    "**Author(s):** David Mizrahi\n",
    "<hr style=\"clear:both\">\n",
    "\n"
   ]
  },
  {
   "cell_type": "markdown",
   "id": "29c12d3d",
   "metadata": {},
   "source": [
    "In this exercise, we'll build on what was done in the previous exercise and implement Convolutional Neural Nets with PyTorch."
   ]
  },
  {
   "cell_type": "markdown",
   "id": "e2906a30",
   "metadata": {},
   "source": [
    "*Run next cell to show tweet*"
   ]
  },
  {
   "cell_type": "code",
   "execution_count": null,
   "id": "543bc29f",
   "metadata": {},
   "outputs": [],
   "source": [
    "%%html\n",
    "<blockquote class=\"twitter-tweet\" data-lang=\"en\" data-dnt=\"true\"><p lang=\"en\" dir=\"ltr\">A demo from 1993 of 32-year-old Yann LeCun showing off the world&#39;s first convolutional network for text recognition. <a href=\"https://twitter.com/hashtag/tbt?src=hash&amp;ref_src=twsrc%5Etfw\">#tbt</a> <a href=\"https://twitter.com/hashtag/ML?src=hash&amp;ref_src=twsrc%5Etfw\">#ML</a> <a href=\"https://twitter.com/hashtag/neuralnetworks?src=hash&amp;ref_src=twsrc%5Etfw\">#neuralnetworks</a> <a href=\"https://twitter.com/hashtag/CNNs?src=hash&amp;ref_src=twsrc%5Etfw\">#CNNs</a> <a href=\"https://twitter.com/hashtag/MachineLearning?src=hash&amp;ref_src=twsrc%5Etfw\">#MachineLearning</a> <a href=\"https://t.co/9eeibjJ4MK\">pic.twitter.com/9eeibjJ4MK</a></p>&mdash; MIT CSAIL #AAAI2021 (@MIT_CSAIL) <a href=\"https://twitter.com/MIT_CSAIL/status/1347237563342340097?ref_src=twsrc%5Etfw\">January 7, 2021</a></blockquote> <script async src=\"https://platform.twitter.com/widgets.js\" charset=\"utf-8\"></script> "
   ]
  },
  {
   "cell_type": "markdown",
   "id": "d178af9d",
   "metadata": {},
   "source": [
    "#### For Google Colab\n",
    "You can run this notebook in Google Colab using the following link: https://colab.research.google.com/github/SYCAMORE-Lab/ME390-2024/blob/main/Exercises/09-conv-nets/conv_nets_MNIST_Sol.ipynb"
   ]
  },
  {
   "cell_type": "code",
   "execution_count": null,
   "id": "00c570f4",
   "metadata": {},
   "outputs": [],
   "source": [
    "try:\n",
    "  import google.colab\n",
    "  IN_COLAB = True\n",
    "except:\n",
    "  IN_COLAB = False\n",
    "\n",
    "if IN_COLAB:\n",
    "    !pip install torchsummary\n",
    "    # Clone the entire repo to access the files\n",
    "    !git clone -l -s https://github.com/SYCAMORE-Lab/ME390-2024.git cloned-repo\n",
    "    %cd cloned-repo/Exercises/09-conv-nets\n",
    "else:\n",
    "    # torchsummary\n",
    "    import sys\n",
    "    !{sys.executable} -m pip install torchsummary"
   ]
  },
  {
   "cell_type": "markdown",
   "id": "86d74442",
   "metadata": {},
   "source": [
    "## 1. Imports & set-up\n",
    "\n",
    "This part is nearly identical to last exercise on fully-connected neural networks.\n",
    "\n",
    "More specifically, we define:\n",
    "\n",
    "- the MNIST dataset & dataloader\n",
    "- the training & test loop\n",
    "- a 3-layer fully connected neural net (now called `three_layer_net` instead of `model`)\n",
    "\n",
    "Then this neural net is trained for 10 epochs. This time, we use **Adam instead of SGD** as our optimizer."
   ]
  },
  {
   "cell_type": "code",
   "execution_count": null,
   "id": "02946023",
   "metadata": {},
   "outputs": [],
   "source": [
    "# PyTorch & torchvision\n",
    "import torch\n",
    "import torch.nn as nn\n",
    "import torch.nn.functional as F\n",
    "import torch.optim as optim\n",
    "\n",
    "import torchvision\n",
    "import torchvision.transforms as transforms\n",
    "from torchvision.datasets import MNIST, FashionMNIST\n",
    "\n",
    "# Progress bar\n",
    "from tqdm.auto import tqdm\n",
    "\n",
    "# torchsummary\n",
    "import torchsummary\n",
    "\n",
    "# Helper files\n",
    "import helpers\n",
    "import metrics"
   ]
  },
  {
   "cell_type": "code",
   "execution_count": null,
   "id": "fec3c328",
   "metadata": {},
   "outputs": [],
   "source": [
    "torch.__version__"
   ]
  },
  {
   "cell_type": "code",
   "execution_count": null,
   "id": "34a04416",
   "metadata": {},
   "outputs": [],
   "source": [
    "torchvision.__version__"
   ]
  },
  {
   "cell_type": "markdown",
   "id": "ca218ef8",
   "metadata": {},
   "source": [
    "As was done in last exercise, here is a brief description of these imported packages:\n",
    "\n",
    "**PyTorch:**\n",
    "- `torch.nn` Contains the basic building blocks to implement neural nets (incl. different types of layers and loss functions) | [Documentation](https://pytorch.org/docs/stable/nn.html)\n",
    "- `torch.nn.functional` A functional (stateless) approach to torch.nn, often used for stateless objects (e.g. ReLU) | [Documentation](https://pytorch.org/docs/stable/nn.functional.html) | [More info](https://discuss.pytorch.org/t/what-is-the-difference-between-torch-nn-and-torch-nn-functional/33597/2)\n",
    "- `torch.optim` A package implementing various optimization algorithms, such as SGD and Adam | [Documentation](https://pytorch.org/docs/stable/optim.html)\n",
    "\n",
    "**torchvision:**\n",
    "- `torchvision.transforms` Common image transformations\n",
    "- `torchvision.datasets` Popular image datasets\n",
    "\n",
    "**`torchsummary`:** Provides additional information on network architecture\n",
    "\n",
    "**`tqdm`:** Popular package used to show progress bars | [Documentation](https://tqdm.github.io/)\n",
    "\n",
    "**`helpers`**: Contains functions to help visualize data and predictions\n",
    "\n",
    "**`metrics`:** Contains two simple classes that help keep track and compute the loss and accuracy over a training epoch"
   ]
  },
  {
   "cell_type": "markdown",
   "id": "b12ec3ad",
   "metadata": {},
   "source": [
    "### Dataset & dataloader"
   ]
  },
  {
   "cell_type": "code",
   "execution_count": null,
   "id": "cd216b18",
   "metadata": {},
   "outputs": [],
   "source": [
    "# Save dataset in a folder called \"/data\"\n",
    "root = \"data\"\n",
    "\n",
    "# transforms.ToTensor() is used to convert the downloaded PIL Image to a torch Tensor\n",
    "train_data = MNIST(root, train=True, transform=transforms.ToTensor(), download=True)\n",
    "test_data = MNIST(root, train=False, transform=transforms.ToTensor(), download=True)\n",
    "\n",
    "batch_size = 32\n",
    "# Reshuffle training data at every epoch, but not the test data \n",
    "train_loader = torch.utils.data.DataLoader(train_data, batch_size=batch_size, shuffle=True)\n",
    "test_loader = torch.utils.data.DataLoader(test_data, batch_size=batch_size, shuffle=False)"
   ]
  },
  {
   "cell_type": "code",
   "execution_count": null,
   "id": "3954f67b",
   "metadata": {},
   "outputs": [],
   "source": [
    "print(f\"Images in training data: {len(train_data)}\")\n",
    "print(f\"Images in test data: {len(test_data)}\")\n",
    "# Show the mapping from target value to class name (if you're using MNIST, you won't be too surprised)\n",
    "print(\"Mapping from targer value to class name:\")\n",
    "{i: class_name for i, class_name in enumerate(train_data.classes)}"
   ]
  },
  {
   "cell_type": "code",
   "execution_count": null,
   "id": "aac06d06",
   "metadata": {},
   "outputs": [],
   "source": [
    "images, targets = next(iter(train_loader))\n",
    "helpers.imshow(torchvision.utils.make_grid(images, nrow=8))\n",
    "print(targets.reshape(-1, 8))"
   ]
  },
  {
   "cell_type": "markdown",
   "id": "e499a86a",
   "metadata": {},
   "source": [
    "### Training loop & test accuracy"
   ]
  },
  {
   "cell_type": "code",
   "execution_count": null,
   "id": "9e01a57d",
   "metadata": {},
   "outputs": [],
   "source": [
    "def train(model: torch.nn.Module, train_loader: torch.utils.data.DataLoader, loss_fn: torch.nn.Module, optimizer: torch.optim.Optimizer, epochs: int):\n",
    "    \n",
    "    # Initialize metrics for loss and accuracy\n",
    "    loss_metric = metrics.LossMetric()\n",
    "    acc_metric = metrics.AccuracyMetric(k=1)\n",
    "    \n",
    "    model.train()\n",
    "    \n",
    "    for epoch in range(1, epochs + 1):\n",
    "        \n",
    "        # Progress bar set-up\n",
    "        pbar = tqdm(total=len(train_loader), leave=True)\n",
    "        pbar.set_description(f\"Epoch {epoch}\")\n",
    "        \n",
    "        # Iterate through data\n",
    "        for data, target in train_loader:\n",
    "            \n",
    "            # Zero-out the gradients\n",
    "            optimizer.zero_grad()\n",
    "            \n",
    "            # Forward pass\n",
    "            out = model(data)\n",
    "            \n",
    "            # Compute loss\n",
    "            loss = loss_fn(out, target)\n",
    "            \n",
    "            # Backward pass\n",
    "            loss.backward()\n",
    "            \n",
    "            # Optimizer step\n",
    "            optimizer.step()\n",
    "\n",
    "            # Update metrics & progress bar\n",
    "            loss_metric.update(loss.item(), data.shape[0])\n",
    "            acc_metric.update(out, target)\n",
    "            pbar.update()\n",
    "            \n",
    "        # End of epoch, show loss and acc\n",
    "        pbar.set_postfix_str(f\"Train loss: {loss_metric.compute():.3f} | Train acc: {acc_metric.compute() * 100:.2f}%\")\n",
    "        loss_metric.reset()\n",
    "        acc_metric.reset()\n",
    "        \n",
    "def test(model: torch.nn.Module, dataloader: torch.utils.data.DataLoader):\n",
    "    \n",
    "    # Initialize accuracy metric\n",
    "    acc_metric = metrics.AccuracyMetric(k=1)\n",
    "    \n",
    "    # Progress bar set-up\n",
    "    pbar = tqdm(total=len(test_loader), leave=True)\n",
    "    \n",
    "    model.eval()\n",
    "    \n",
    "    with torch.no_grad(): \n",
    "        # Iterate through data\n",
    "        for data, target in dataloader:\n",
    "            \n",
    "            # Forward pass\n",
    "            out = model(data)\n",
    "            \n",
    "            # Update accuracy metric\n",
    "            acc_metric.update(out, target)\n",
    "\n",
    "            # Update progress bar\n",
    "            pbar.update()\n",
    "            \n",
    "    # End of epoch, show loss and acc\n",
    "    test_acc = acc_metric.compute() * 100\n",
    "    pbar.set_postfix_str(f\"Acc: {test_acc:.2f}%\")\n",
    "    print(f\"Accuracy is {test_acc:.2f}%\")"
   ]
  },
  {
   "cell_type": "markdown",
   "id": "d7cb82d1",
   "metadata": {},
   "source": [
    "### Three layer fully-connected NN"
   ]
  },
  {
   "cell_type": "code",
   "execution_count": null,
   "id": "7cb7ee24",
   "metadata": {},
   "outputs": [],
   "source": [
    "class ThreeLayerNet(nn.Module):\n",
    "    \"\"\"3-Layer neural net\"\"\"\n",
    "    \n",
    "    def __init__(self) -> None:\n",
    "        super().__init__()\n",
    "        self.fc1 = nn.Linear(784, 100)\n",
    "        self.fc2 = nn.Linear(100, 100)\n",
    "        self.fc3 = nn.Linear(100, 10)\n",
    "\n",
    "    def forward(self, x: torch.Tensor) -> torch.Tensor:\n",
    "        # Flatten to get tensor of shape (batch_size, 784)\n",
    "        x = x.flatten(start_dim=1)\n",
    "\n",
    "        x = F.relu(self.fc1(x))\n",
    "        x = F.relu(self.fc2(x))\n",
    "        out = self.fc3(x)\n",
    "        return out\n",
    "\n",
    "    def predict(self, x: torch.Tensor) -> torch.Tensor:\n",
    "        \"\"\"Predicts classes by calculating the softmax\"\"\"\n",
    "        logits = self.forward(x)\n",
    "        return F.softmax(logits, dim=1)\n",
    "\n",
    "# Note: Instance is called three_layer_net instead of model this time around\n",
    "three_layer_net = ThreeLayerNet()"
   ]
  },
  {
   "cell_type": "markdown",
   "id": "67ab7ccd",
   "metadata": {},
   "source": [
    "#### Loss & optimizer\n",
    "\n",
    "As before, we'll use the [Cross Entropy](https://pytorch.org/docs/stable/generated/torch.nn.CrossEntropyLoss.html) loss.\n",
    "\n",
    "However, this time, we'll switch up optimizers and use **[Adam](https://pytorch.org/docs/master/generated/torch.optim.Adam.html)** with the default settings for the learning rate and momentum. This should help us get faster convergence than with SGD.\n",
    "\n",
    "Implement both the loss and the optimizer in the next cell."
   ]
  },
  {
   "cell_type": "code",
   "execution_count": null,
   "id": "f9ef1742",
   "metadata": {},
   "outputs": [],
   "source": [
    "### START CODE HERE ###\n",
    "# Cross-Entropy loss\n",
    "loss_fn = nn.CrossEntropyLoss()\n",
    "### END CODE HERE ###\n",
    "# Use Adam with default parameters\n",
    "optimizer = optim.Adam(three_layer_net.parameters())"
   ]
  },
  {
   "cell_type": "markdown",
   "id": "954c92b0",
   "metadata": {},
   "source": [
    "####  Training"
   ]
  },
  {
   "cell_type": "code",
   "execution_count": null,
   "id": "d1bdca3a",
   "metadata": {},
   "outputs": [],
   "source": [
    "train(three_layer_net, train_loader, loss_fn, optimizer, epochs=10)"
   ]
  },
  {
   "cell_type": "code",
   "execution_count": null,
   "id": "709f3353",
   "metadata": {},
   "outputs": [],
   "source": [
    "test(three_layer_net, test_loader)"
   ]
  },
  {
   "cell_type": "markdown",
   "id": "f051eb6f",
   "metadata": {},
   "source": [
    "**Expected result:** >96% test accuracy on MNIST"
   ]
  },
  {
   "cell_type": "markdown",
   "id": "acd22395",
   "metadata": {},
   "source": [
    "## 2. LeNet"
   ]
  },
  {
   "cell_type": "markdown",
   "id": "57b1af71",
   "metadata": {},
   "source": [
    "In this part, you'll see the implementation of a slightly modified version of LeNet5, a convolutional neural network proposed by [Yann Le Cun et al. in 1998](http://yann.lecun.com/exdb/publis/pdf/lecun-01a.pdf). LeNet was one of the earliest convolutional neural networks, and helped promote the development of deep learning. Your goal is to reproduce this network architecture from just the paper's figure (see below) and a few extra tips."
   ]
  },
  {
   "cell_type": "markdown",
   "id": "52fd94a1",
   "metadata": {},
   "source": [
    "#### LeNet5\n",
    "\n",
    "<img src=\"images/lenet.png\" width=900></img>"
   ]
  },
  {
   "cell_type": "markdown",
   "id": "1148aa39",
   "metadata": {},
   "source": [
    "Here are some tips to understand implementation:\n",
    "\n",
    "- Our images are 28x28, but the figure shows 32x32 input images. Can you find a way to make our images fit? **Hint:**  `nn.Conv2d` has a padding parameter.\n",
    "- Both convolutional layers use 5x5 filters with stride 1\n",
    "- We use ReLU as the activation function\n",
    "- We use Max-Pooling whenever subsampling is needed\n",
    "- We'll need to flatten the tensor at some point\n",
    "- As before, no need to add softmax after the final layer, `nn.CrossEntropyLoss()` adds it automatically\n",
    "\n",
    "Furthermore, here is some helpful documentation:\n",
    "- [`torch.nn` documentation](https://pytorch.org/docs/stable/nn.html)\n",
    "- [`torch.nn.functional` documentation](https://pytorch.org/docs/stable/nn.functional.html)"
   ]
  },
  {
   "cell_type": "code",
   "execution_count": null,
   "id": "8d494c1f",
   "metadata": {},
   "outputs": [],
   "source": [
    "class LeNet(nn.Module):\n",
    "    \"\"\"LeNet5 from `\"Gradient-Based Learning Applied To Document Recognition\"\n",
    "    <http://yann.lecun.com/exdb/publis/pdf/lecun-98.pdf>`_\n",
    "    \"\"\"\n",
    "\n",
    "    def __init__(self) -> None:\n",
    "        super().__init__()\n",
    "\n",
    "        self.conv1 = nn.Conv2d(1, 6, kernel_size=5, padding=2)\n",
    "        self.conv2 = nn.Conv2d(6, 16, kernel_size=5)\n",
    "        self.fc1 = nn.Linear(16 * 5 * 5, 120)\n",
    "        self.fc2 = nn.Linear(120, 84)\n",
    "        self.fc3 = nn.Linear(84, 10)\n",
    "        \n",
    "\n",
    "    def forward(self, x: torch.Tensor) -> torch.Tensor:\n",
    "        x = F.relu(self.conv1(x))\n",
    "        x = F.max_pool2d(x, 2)\n",
    "        x = F.relu(self.conv2(x))\n",
    "        x = F.max_pool2d(x, 2)\n",
    "        x = x.flatten(start_dim=1)\n",
    "        x = F.relu(self.fc1(x))\n",
    "        x = F.relu(self.fc2(x))\n",
    "        out = self.fc3(x)\n",
    "        return out\n",
    "    \n",
    "    def predict(self, x: torch.Tensor) -> torch.Tensor:\n",
    "        \"\"\"Predicts classes by calculating the softmax\"\"\"\n",
    "        logits = self.forward(x)\n",
    "        return F.softmax(logits, dim=1)\n",
    "\n",
    "\n",
    "lenet = LeNet()"
   ]
  },
  {
   "cell_type": "code",
   "execution_count": null,
   "id": "c9f20b75",
   "metadata": {},
   "outputs": [],
   "source": [
    "# Check that a forward pass gives the correct output size\n",
    "print(lenet(images).shape)"
   ]
  },
  {
   "cell_type": "markdown",
   "id": "cd229168",
   "metadata": {},
   "source": [
    "**Expected output:** `torch.Size([32, 10])`"
   ]
  },
  {
   "cell_type": "code",
   "execution_count": null,
   "id": "35022079",
   "metadata": {},
   "outputs": [],
   "source": [
    "### START CODE HERE ###\n",
    "# Cross-Entropy loss\n",
    "loss_fn = nn.CrossEntropyLoss()\n",
    "# Adam\n",
    "optimizer = optim.Adam(lenet.parameters())\n",
    "### END CODE HERE ###"
   ]
  },
  {
   "cell_type": "markdown",
   "id": "75bb2eb0",
   "metadata": {},
   "source": [
    "####  Training"
   ]
  },
  {
   "cell_type": "code",
   "execution_count": null,
   "id": "5dfd0cfd",
   "metadata": {},
   "outputs": [],
   "source": [
    "train(lenet, train_loader, loss_fn, optimizer, epochs=10)"
   ]
  },
  {
   "cell_type": "code",
   "execution_count": null,
   "id": "909a259a",
   "metadata": {},
   "outputs": [],
   "source": [
    "test(lenet, test_loader)"
   ]
  },
  {
   "cell_type": "markdown",
   "id": "a30735c0",
   "metadata": {},
   "source": [
    "**Expected result:** >98% test accuracy on MNIST"
   ]
  },
  {
   "cell_type": "markdown",
   "id": "a9e1109a",
   "metadata": {},
   "source": [
    "#### Visualizing predictions"
   ]
  },
  {
   "cell_type": "markdown",
   "id": "21bad7af",
   "metadata": {},
   "source": [
    "Let's visualize some of these predictions with the help of `view_prediction()` from `helpers`."
   ]
  },
  {
   "cell_type": "code",
   "execution_count": null,
   "id": "8cbb10cb",
   "metadata": {},
   "outputs": [],
   "source": [
    "images, _ = next(iter(test_loader))\n",
    "preds = lenet.predict(images)\n",
    "\n",
    "# Shows the image next to the classifier's softmax score\n",
    "# Show for the first 5 images (change value to see more images)\n",
    "for i in range(5):\n",
    "    helpers.view_prediction(images[i], preds[i], test_data.classes)"
   ]
  },
  {
   "cell_type": "markdown",
   "id": "393d518f",
   "metadata": {},
   "source": [
    "## 3. Comparing networks"
   ]
  },
  {
   "cell_type": "markdown",
   "id": "1fa58282",
   "metadata": {},
   "source": [
    "We've successfully trained two models on the MNIST dataset. But how do they differ? To find out, we'll compare their test accuracy and their architecture."
   ]
  },
  {
   "cell_type": "markdown",
   "id": "8697fbd5",
   "metadata": {},
   "source": [
    "#### Test accuracy"
   ]
  },
  {
   "cell_type": "code",
   "execution_count": null,
   "id": "ee4b4aff",
   "metadata": {},
   "outputs": [],
   "source": [
    "print(\"3-layer fully-connected net test accuracy:\")\n",
    "test(three_layer_net, test_loader)"
   ]
  },
  {
   "cell_type": "code",
   "execution_count": null,
   "id": "483beb09",
   "metadata": {},
   "outputs": [],
   "source": [
    "print(\"LeNet-5 test accuracy\")\n",
    "test(lenet, test_loader)"
   ]
  },
  {
   "cell_type": "markdown",
   "id": "7b17de04",
   "metadata": {},
   "source": [
    "#### Model size"
   ]
  },
  {
   "cell_type": "code",
   "execution_count": null,
   "id": "720a6f62",
   "metadata": {},
   "outputs": [],
   "source": [
    "torchsummary.summary(three_layer_net, (1, 28, 28), device=\"cpu\")"
   ]
  },
  {
   "cell_type": "code",
   "execution_count": null,
   "id": "5382840b",
   "metadata": {},
   "outputs": [],
   "source": [
    "torchsummary.summary(lenet, (1, 28, 28), device=\"cpu\")"
   ]
  },
  {
   "cell_type": "markdown",
   "id": "1ea5d68f",
   "metadata": {},
   "source": [
    "**Questions:** \n",
    "- Which model has the highest accuracy?\n",
    "- Compare the number of trainable parameters (weights) in both networks? Where do most of LeNet's trainable parameters come from?\n",
    "- Which model takes longer to train? Look at the `it/s` metric displayed next to the progress bar."
   ]
  },
  {
   "cell_type": "markdown",
   "id": "bb4f1d8b",
   "metadata": {},
   "source": [
    "**Answers:** \n",
    "- LeNet performs slightly better, as it reaches ~99% accuracy on MNIST, while the 3-layer FC net gets ~97% accuracy.\n",
    "- Despite performing better, LeNet has slightly less trainable parameters than the 3 layer network. Also, notice that most of LeNet's weights come from the linear layers.\n",
    "- On CPU, LeNet takes longer to train (about 2x longer on our device). "
   ]
  },
  {
   "cell_type": "markdown",
   "id": "e0adf9a1",
   "metadata": {},
   "source": [
    "## 4. Mixing it up"
   ]
  },
  {
   "cell_type": "markdown",
   "id": "bea3307b",
   "metadata": {},
   "source": [
    "LeNet performs quite well on MNIST. But what would happen if we apply a fixed random permutation to the pixels of the images?\n",
    "\n",
    "To find out, we'll create a dataset we'll call permuted MNIST. It simply takes the original dataset, and permutes pixels before feeding images to the network."
   ]
  },
  {
   "cell_type": "markdown",
   "id": "90b690d7",
   "metadata": {},
   "source": [
    "### Permuted MNIST"
   ]
  },
  {
   "cell_type": "code",
   "execution_count": null,
   "id": "adbe54e9",
   "metadata": {},
   "outputs": [],
   "source": [
    "# Fix random seed so permutation is identical across runs\n",
    "torch.manual_seed(42)\n",
    "perm_indices = torch.randperm(784)\n",
    "# Set back to random seed\n",
    "torch.random.seed()\n",
    "\n",
    "# The same permutation gets applied to each image \n",
    "permute_transform = transforms.Compose([transforms.ToTensor(), transforms.Lambda(lambda x: x.flatten()[perm_indices].reshape(1, 28, 28))])"
   ]
  },
  {
   "cell_type": "code",
   "execution_count": null,
   "id": "efb32abd",
   "metadata": {},
   "outputs": [],
   "source": [
    "permuted_train_data = MNIST(root, train=True, transform=permute_transform, download=True)\n",
    "permuted_test_data = MNIST(root, train=False, transform=permute_transform, download=True)\n",
    "\n",
    "batch_size = 32\n",
    "permuted_train_loader = torch.utils.data.DataLoader(permuted_train_data, batch_size=batch_size, shuffle=True)\n",
    "permuted_test_loader = torch.utils.data.DataLoader(permuted_test_data, batch_size=batch_size, shuffle=False)"
   ]
  },
  {
   "cell_type": "code",
   "execution_count": null,
   "id": "49c51bbb",
   "metadata": {},
   "outputs": [],
   "source": [
    "# Visualize permuted images\n",
    "permuted_images, targets = next(iter(permuted_test_loader))\n",
    "helpers.imshow(torchvision.utils.make_grid(permuted_images, nrow=8))\n",
    "print(targets.reshape(-1, 8))"
   ]
  },
  {
   "cell_type": "markdown",
   "id": "e33162d7",
   "metadata": {},
   "source": [
    "Pretty hard for us humans to tell which digit is which, right?"
   ]
  },
  {
   "cell_type": "markdown",
   "id": "13efd5fe",
   "metadata": {},
   "source": [
    "**Question:** Before starting the training process, how do you think this random permutation will affect the performance of the two networks (3-layer net and LeNet)?"
   ]
  },
  {
   "cell_type": "markdown",
   "id": "c2aa20a3",
   "metadata": {},
   "source": [
    "**Answer:** \n",
    "\n",
    "3-layer net is a fully connected neural net, which doesn't make any assumptions regarding the structure of our data. Therefore, it should be completely unaffected by the permutation (and the images gets flattened beforehand anyway).\n",
    "\n",
    "LeNet is a convolutional neural network which makes the explicit assumption that input are images (e.g. weight sharing, kernels & pooling layers only take into account neighboring parts of the images, etc...) so we should expect the accuracy to drop when permuting pixels, as the images lose their structure.\n"
   ]
  },
  {
   "cell_type": "markdown",
   "id": "eddec411",
   "metadata": {},
   "source": [
    "### Training on permuted images"
   ]
  },
  {
   "cell_type": "markdown",
   "id": "fa7209b8",
   "metadata": {},
   "source": [
    "Let's now train our two network architectures on this permuted dataset. As only the dataset changes, the training procedure will be almost exactly the same as previously."
   ]
  },
  {
   "cell_type": "markdown",
   "id": "5b82ac85",
   "metadata": {},
   "source": [
    "#### Fully-connected NN (3-layer net)"
   ]
  },
  {
   "cell_type": "code",
   "execution_count": null,
   "id": "3616eac3",
   "metadata": {},
   "outputs": [],
   "source": [
    "permuted_three_layer_net = ThreeLayerNet()\n",
    "loss_fn = nn.CrossEntropyLoss()\n",
    "optimizer = optim.Adam(permuted_three_layer_net.parameters())\n",
    "\n",
    "train(permuted_three_layer_net, permuted_train_loader, loss_fn, optimizer, epochs=10)"
   ]
  },
  {
   "cell_type": "code",
   "execution_count": null,
   "id": "dd929fc2",
   "metadata": {},
   "outputs": [],
   "source": [
    "test(permuted_three_layer_net, permuted_test_loader)"
   ]
  },
  {
   "cell_type": "markdown",
   "id": "373358eb",
   "metadata": {},
   "source": [
    "#### LeNet"
   ]
  },
  {
   "cell_type": "code",
   "execution_count": null,
   "id": "fc90d899",
   "metadata": {},
   "outputs": [],
   "source": [
    "permuted_lenet = LeNet()\n",
    "loss_fn = nn.CrossEntropyLoss()\n",
    "optimizer = optim.Adam(permuted_lenet.parameters())\n",
    "\n",
    "train(permuted_lenet, permuted_train_loader, loss_fn, optimizer, epochs=10)"
   ]
  },
  {
   "cell_type": "code",
   "execution_count": null,
   "id": "91ad150f",
   "metadata": {},
   "outputs": [],
   "source": [
    "test(permuted_lenet, permuted_test_loader)"
   ]
  },
  {
   "cell_type": "markdown",
   "id": "ea363aa8",
   "metadata": {},
   "source": [
    "Our 3 layer net is completely unaffected by the permutation, while the accuracy of LeNet decreases.\n",
    "\n",
    "This is to be expected. A ConvNet makes the explicit assumption that the input are images, which allows it to encode certain properties into the architecture, while a fully-connected neural net makes no assumption of the sort. When these assumptions hold, a ConvNet performs quite well but suffers otherwise. Note that LeNet still performs quite well, in part thanks to the final few fully-connected layers, and because MNIST is a particularly easy dataset.\n",
    "\n",
    "As real-world images don't have all their pixels permuted by a malicious exercise maker, you can safely use ConvNets for most tasks involving images."
   ]
  },
  {
   "cell_type": "markdown",
   "id": "379748e3",
   "metadata": {},
   "source": [
    "Congratulations on finishing this exercise!"
   ]
  },
  {
   "cell_type": "markdown",
   "id": "49a8d27d",
   "metadata": {},
   "source": [
    "## (Optional) Additional PyTorch resources \n",
    "- PyTorch basics: https://pytorch.org/tutorials/beginner/basics/intro.html\n",
    "- PyTorch cheat sheet: https://pytorch.org/tutorials/beginner/ptcheat.html\n",
    "- Other PyTorch tutorials: https://pytorch.org/tutorials/index.html\n",
    "- PyTorch recipes: https://pytorch.org/tutorials/recipes/recipes_index.html (bite-sized code examples on specific PyTorch features)\n",
    "- PyTorch examples: https://github.com/pytorch/examples"
   ]
  }
 ],
 "metadata": {
  "kernelspec": {
   "display_name": "Python 3 (ipykernel)",
   "language": "python",
   "name": "python3"
  },
  "language_info": {
   "codemirror_mode": {
    "name": "ipython",
    "version": 3
   },
   "file_extension": ".py",
   "mimetype": "text/x-python",
   "name": "python",
   "nbconvert_exporter": "python",
   "pygments_lexer": "ipython3",
   "version": "3.7.17"
  }
 },
 "nbformat": 4,
 "nbformat_minor": 5
}
